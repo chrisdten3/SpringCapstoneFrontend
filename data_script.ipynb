{
 "cells": [
  {
   "cell_type": "code",
   "execution_count": 2,
   "metadata": {},
   "outputs": [],
   "source": [
    "import requests\n",
    "import json\n",
    "import pandas as pd\n",
    "# API pulls are based on this article\n",
    "# https://towardsdatascience.com/this-tutorial-will-make-your-api-data-pull-so-much-easier-9ab4c35f9af\n",
    "# \n",
    "# API Documentation\n",
    "# https://developers.themoviedb.org/3/movies/get-movie-details\n"
   ]
  },
  {
   "cell_type": "code",
   "execution_count": 3,
   "metadata": {},
   "outputs": [
    {
     "name": "stdout",
     "output_type": "stream",
     "text": [
      "       movieId   imdbId    tmdbId\n",
      "0            1   114709     862.0\n",
      "1            2   113497    8844.0\n",
      "2            3   113228   15602.0\n",
      "3            4   114885   31357.0\n",
      "4            5   113041   11862.0\n",
      "...        ...      ...       ...\n",
      "62418   209157  6671244  499546.0\n",
      "62419   209159   297986   63407.0\n",
      "62420   209163  6755366  553036.0\n",
      "62421   209169   249603  162892.0\n",
      "62422   209171    55323   79513.0\n",
      "\n",
      "[62423 rows x 3 columns]\n"
     ]
    }
   ],
   "source": [
    "links_df = pd.read_csv(\"links.csv\")\n",
    "print(links_df)"
   ]
  },
  {
   "cell_type": "code",
   "execution_count": 4,
   "metadata": {},
   "outputs": [
    {
     "name": "stdout",
     "output_type": "stream",
     "text": [
      "862.0\n",
      "{\"adult\": false, \"backdrop_path\": \"/lxD5ak7BOoinRNehOCA85CQ8ubr.jpg\", \"belongs_to_collection\": {\"id\": 10194, \"name\": \"Toy Story Collection\", \"poster_path\": \"/rki5qLuwb0xnnE9seehxO9TlLhW.jpg\", \"backdrop_path\": \"/9FBwqcd9IRruEDUrTdcaafOMKUq.jpg\"}, \"budget\": 30000000, \"genres\": [{\"id\": 16, \"name\": \"Animation\"}, {\"id\": 12, \"name\": \"Adventure\"}, {\"id\": 10751, \"name\": \"Family\"}, {\"id\": 35, \"name\": \"Comedy\"}], \"homepage\": \"http://toystory.disney.com/toy-story\", \"id\": 862, \"imdb_id\": \"tt0114709\", \"original_language\": \"en\", \"original_title\": \"Toy Story\", \"overview\": \"Led by Woody, Andy's toys live happily in his room until Andy's birthday brings Buzz Lightyear onto the scene. Afraid of losing his place in Andy's heart, Woody plots against Buzz. But when circumstances separate Buzz and Woody from their owner, the duo eventually learns to put aside their differences.\", \"popularity\": 132.718, \"poster_path\": \"/uXDfjJbdP4ijW5hWSBrPrlKpxab.jpg\", \"production_companies\": [{\"id\": 3, \"logo_path\": \"/1TjvGVDMYsj6JBxOAkUHpPEwLf7.png\", \"name\": \"Pixar\", \"origin_country\": \"US\"}], \"production_countries\": [{\"iso_3166_1\": \"US\", \"name\": \"United States of America\"}], \"release_date\": \"1995-10-30\", \"revenue\": 373554033, \"runtime\": 81, \"spoken_languages\": [{\"english_name\": \"English\", \"iso_639_1\": \"en\", \"name\": \"English\"}], \"status\": \"Released\", \"tagline\": \"\", \"title\": \"Toy Story\", \"video\": false, \"vote_average\": 7.967, \"vote_count\": 16499}\n",
      "8844.0\n",
      "{\"adult\": false, \"backdrop_path\": \"/pYw10zrqfkdm3yD9JTO6vEGQhKy.jpg\", \"belongs_to_collection\": {\"id\": 495527, \"name\": \"Jumanji Collection\", \"poster_path\": \"/6sjMsBcIuqU44GpG5tL33KUFOQR.jpg\", \"backdrop_path\": \"/9PCsWrw1GvrZkrd1GCxRqscgZu0.jpg\"}, \"budget\": 65000000, \"genres\": [{\"id\": 12, \"name\": \"Adventure\"}, {\"id\": 14, \"name\": \"Fantasy\"}, {\"id\": 10751, \"name\": \"Family\"}], \"homepage\": \"http://www.sonypictures.com/movies/jumanji/\", \"id\": 8844, \"imdb_id\": \"tt0113497\", \"original_language\": \"en\", \"original_title\": \"Jumanji\", \"overview\": \"When siblings Judy and Peter discover an enchanted board game that opens the door to a magical world, they unwittingly invite Alan -- an adult who's been trapped inside the game for 26 years -- into their living room. Alan's only hope for freedom is to finish the game, which proves risky as all three find themselves running from giant rhinoceroses, evil monkeys and other terrifying creatures.\", \"popularity\": 20.945, \"poster_path\": \"/vgpXmVaVyUL7GGiDeiK1mKEKzcX.jpg\", \"production_companies\": [{\"id\": 559, \"logo_path\": \"/jqWioYeGSyTLuHth0141bTGvu6H.png\", \"name\": \"TriStar Pictures\", \"origin_country\": \"US\"}, {\"id\": 10201, \"logo_path\": null, \"name\": \"Interscope Communications\", \"origin_country\": \"US\"}, {\"id\": 2550, \"logo_path\": null, \"name\": \"Teitler Film\", \"origin_country\": \"US\"}, {\"id\": 1382, \"logo_path\": \"/sOg7LGESPH5vCTOIdbMhLuypoLL.png\", \"name\": \"PolyGram Filmed Entertainment\", \"origin_country\": \"US\"}], \"production_countries\": [{\"iso_3166_1\": \"US\", \"name\": \"United States of America\"}], \"release_date\": \"1995-12-15\", \"revenue\": 262821940, \"runtime\": 104, \"spoken_languages\": [{\"english_name\": \"English\", \"iso_639_1\": \"en\", \"name\": \"English\"}, {\"english_name\": \"French\", \"iso_639_1\": \"fr\", \"name\": \"Fran\\u00e7ais\"}], \"status\": \"Released\", \"tagline\": \"Roll the dice and unleash the excitement!\", \"title\": \"Jumanji\", \"video\": false, \"vote_average\": 7.2, \"vote_count\": 9506}\n",
      "15602.0\n",
      "{\"adult\": false, \"backdrop_path\": \"/1J4Z7VhdAgtdd97nCxY7dcBpjGT.jpg\", \"belongs_to_collection\": {\"id\": 119050, \"name\": \"Grumpy Old Men Collection\", \"poster_path\": \"/nLvUdqgPgm3F85NMCii9gVFUcet.jpg\", \"backdrop_path\": \"/hypTnLot2z8wpFS7qwsQHW1uV8u.jpg\"}, \"budget\": 25000000, \"genres\": [{\"id\": 10749, \"name\": \"Romance\"}, {\"id\": 35, \"name\": \"Comedy\"}], \"homepage\": \"\", \"id\": 15602, \"imdb_id\": \"tt0113228\", \"original_language\": \"en\", \"original_title\": \"Grumpier Old Men\", \"overview\": \"A family wedding reignites the ancient feud between next-door neighbors and fishing buddies John and Max. Meanwhile, a sultry Italian divorc\\u00e9e opens a restaurant at the local bait shop, alarming the locals who worry she'll scare the fish away. But she's less interested in seafood than she is in cooking up a hot time with Max.\", \"popularity\": 7.75, \"poster_path\": \"/1FSXpj5e8l4KH6nVFO5SPUeraOt.jpg\", \"production_companies\": [{\"id\": 19464, \"logo_path\": null, \"name\": \"Lancaster Gate\", \"origin_country\": \"\"}, {\"id\": 174, \"logo_path\": \"/IuAlhI9eVC9Z8UQWOIDdWRKSEJ.png\", \"name\": \"Warner Bros. Pictures\", \"origin_country\": \"US\"}], \"production_countries\": [{\"iso_3166_1\": \"US\", \"name\": \"United States of America\"}], \"release_date\": \"1995-12-22\", \"revenue\": 71500000, \"runtime\": 101, \"spoken_languages\": [{\"english_name\": \"English\", \"iso_639_1\": \"en\", \"name\": \"English\"}], \"status\": \"Released\", \"tagline\": \"Still Yelling. Still Fighting. Still Ready for Love.\", \"title\": \"Grumpier Old Men\", \"video\": false, \"vote_average\": 6.5, \"vote_count\": 324}\n",
      "31357.0\n",
      "{\"adult\": false, \"backdrop_path\": \"/jZjoEKXMTDoZAGdkjhAdJaKtXSN.jpg\", \"belongs_to_collection\": null, \"budget\": 16000000, \"genres\": [{\"id\": 35, \"name\": \"Comedy\"}, {\"id\": 18, \"name\": \"Drama\"}, {\"id\": 10749, \"name\": \"Romance\"}], \"homepage\": \"\", \"id\": 31357, \"imdb_id\": \"tt0114885\", \"original_language\": \"en\", \"original_title\": \"Waiting to Exhale\", \"overview\": \"Cheated on, mistreated and stepped on, the women are holding their breath, waiting for the elusive \\\"good man\\\" to break a string of less-than-stellar lovers. Friends and confidants Vannah, Bernie, Glo and Robin talk it all out, determined to find a better way to breathe.\", \"popularity\": 10.623, \"poster_path\": \"/4uw6HKq4vlhrSVp0zkgd4zCy4Pf.jpg\", \"production_companies\": [{\"id\": 25, \"logo_path\": \"/qZCc1lty5FzX30aOCVRBLzaVmcp.png\", \"name\": \"20th Century Fox\", \"origin_country\": \"US\"}], \"production_countries\": [{\"iso_3166_1\": \"US\", \"name\": \"United States of America\"}], \"release_date\": \"1995-12-22\", \"revenue\": 81452156, \"runtime\": 127, \"spoken_languages\": [{\"english_name\": \"English\", \"iso_639_1\": \"en\", \"name\": \"English\"}], \"status\": \"Released\", \"tagline\": \"Friends are the people who let you be yourself... and never let you forget it.\", \"title\": \"Waiting to Exhale\", \"video\": false, \"vote_average\": 6.262, \"vote_count\": 130}\n",
      "11862.0\n",
      "{\"adult\": false, \"backdrop_path\": \"/lEsjVrGU21BeJjF5AF9EWsihDpw.jpg\", \"belongs_to_collection\": {\"id\": 96871, \"name\": \"Father of the Bride (Steve Martin) Collection\", \"poster_path\": \"/nts4iOmNnq7GNicycMJ9pSAn204.jpg\", \"backdrop_path\": \"/7qwE57OVZmMJChBpLEbJEmzUydk.jpg\"}, \"budget\": 0, \"genres\": [{\"id\": 35, \"name\": \"Comedy\"}, {\"id\": 10751, \"name\": \"Family\"}], \"homepage\": \"\", \"id\": 11862, \"imdb_id\": \"tt0113041\", \"original_language\": \"en\", \"original_title\": \"Father of the Bride Part II\", \"overview\": \"Just when George Banks has recovered from his daughter's wedding, he receives the news that she's pregnant ... and that George's wife is expecting too. He was planning on selling their home, but that's a plan that\\u2014like George\\u2014will have to change with the arrival of both a grandchild and a kid of his own.\", \"popularity\": 12.181, \"poster_path\": \"/rj4LBtwQ0uGrpBnCELr716Qo3mw.jpg\", \"production_companies\": [{\"id\": 9195, \"logo_path\": \"/ou5BUbtulr6tIt699q6xJiEQTR9.png\", \"name\": \"Touchstone Pictures\", \"origin_country\": \"US\"}, {\"id\": 5842, \"logo_path\": null, \"name\": \"Sandollar Productions\", \"origin_country\": \"US\"}], \"production_countries\": [{\"iso_3166_1\": \"US\", \"name\": \"United States of America\"}], \"release_date\": \"1995-12-08\", \"revenue\": 76594107, \"runtime\": 106, \"spoken_languages\": [{\"english_name\": \"English\", \"iso_639_1\": \"en\", \"name\": \"English\"}], \"status\": \"Released\", \"tagline\": \"Just When His World Is Back To Normal... He's In For The Surprise Of His Life!\", \"title\": \"Father of the Bride Part II\", \"video\": false, \"vote_average\": 6.2, \"vote_count\": 635}\n",
      "[{'adult': False, 'backdrop_path': '/lxD5ak7BOoinRNehOCA85CQ8ubr.jpg', 'belongs_to_collection': {'id': 10194, 'name': 'Toy Story Collection', 'poster_path': '/rki5qLuwb0xnnE9seehxO9TlLhW.jpg', 'backdrop_path': '/9FBwqcd9IRruEDUrTdcaafOMKUq.jpg'}, 'budget': 30000000, 'genres': [{'id': 16, 'name': 'Animation'}, {'id': 12, 'name': 'Adventure'}, {'id': 10751, 'name': 'Family'}, {'id': 35, 'name': 'Comedy'}], 'homepage': 'http://toystory.disney.com/toy-story', 'id': 862, 'imdb_id': 'tt0114709', 'original_language': 'en', 'original_title': 'Toy Story', 'overview': \"Led by Woody, Andy's toys live happily in his room until Andy's birthday brings Buzz Lightyear onto the scene. Afraid of losing his place in Andy's heart, Woody plots against Buzz. But when circumstances separate Buzz and Woody from their owner, the duo eventually learns to put aside their differences.\", 'popularity': 132.718, 'poster_path': '/uXDfjJbdP4ijW5hWSBrPrlKpxab.jpg', 'production_companies': [{'id': 3, 'logo_path': '/1TjvGVDMYsj6JBxOAkUHpPEwLf7.png', 'name': 'Pixar', 'origin_country': 'US'}], 'production_countries': [{'iso_3166_1': 'US', 'name': 'United States of America'}], 'release_date': '1995-10-30', 'revenue': 373554033, 'runtime': 81, 'spoken_languages': [{'english_name': 'English', 'iso_639_1': 'en', 'name': 'English'}], 'status': 'Released', 'tagline': '', 'title': 'Toy Story', 'video': False, 'vote_average': 7.967, 'vote_count': 16499}, {'adult': False, 'backdrop_path': '/pYw10zrqfkdm3yD9JTO6vEGQhKy.jpg', 'belongs_to_collection': {'id': 495527, 'name': 'Jumanji Collection', 'poster_path': '/6sjMsBcIuqU44GpG5tL33KUFOQR.jpg', 'backdrop_path': '/9PCsWrw1GvrZkrd1GCxRqscgZu0.jpg'}, 'budget': 65000000, 'genres': [{'id': 12, 'name': 'Adventure'}, {'id': 14, 'name': 'Fantasy'}, {'id': 10751, 'name': 'Family'}], 'homepage': 'http://www.sonypictures.com/movies/jumanji/', 'id': 8844, 'imdb_id': 'tt0113497', 'original_language': 'en', 'original_title': 'Jumanji', 'overview': \"When siblings Judy and Peter discover an enchanted board game that opens the door to a magical world, they unwittingly invite Alan -- an adult who's been trapped inside the game for 26 years -- into their living room. Alan's only hope for freedom is to finish the game, which proves risky as all three find themselves running from giant rhinoceroses, evil monkeys and other terrifying creatures.\", 'popularity': 20.945, 'poster_path': '/vgpXmVaVyUL7GGiDeiK1mKEKzcX.jpg', 'production_companies': [{'id': 559, 'logo_path': '/jqWioYeGSyTLuHth0141bTGvu6H.png', 'name': 'TriStar Pictures', 'origin_country': 'US'}, {'id': 10201, 'logo_path': None, 'name': 'Interscope Communications', 'origin_country': 'US'}, {'id': 2550, 'logo_path': None, 'name': 'Teitler Film', 'origin_country': 'US'}, {'id': 1382, 'logo_path': '/sOg7LGESPH5vCTOIdbMhLuypoLL.png', 'name': 'PolyGram Filmed Entertainment', 'origin_country': 'US'}], 'production_countries': [{'iso_3166_1': 'US', 'name': 'United States of America'}], 'release_date': '1995-12-15', 'revenue': 262821940, 'runtime': 104, 'spoken_languages': [{'english_name': 'English', 'iso_639_1': 'en', 'name': 'English'}, {'english_name': 'French', 'iso_639_1': 'fr', 'name': 'Français'}], 'status': 'Released', 'tagline': 'Roll the dice and unleash the excitement!', 'title': 'Jumanji', 'video': False, 'vote_average': 7.2, 'vote_count': 9506}, {'adult': False, 'backdrop_path': '/1J4Z7VhdAgtdd97nCxY7dcBpjGT.jpg', 'belongs_to_collection': {'id': 119050, 'name': 'Grumpy Old Men Collection', 'poster_path': '/nLvUdqgPgm3F85NMCii9gVFUcet.jpg', 'backdrop_path': '/hypTnLot2z8wpFS7qwsQHW1uV8u.jpg'}, 'budget': 25000000, 'genres': [{'id': 10749, 'name': 'Romance'}, {'id': 35, 'name': 'Comedy'}], 'homepage': '', 'id': 15602, 'imdb_id': 'tt0113228', 'original_language': 'en', 'original_title': 'Grumpier Old Men', 'overview': \"A family wedding reignites the ancient feud between next-door neighbors and fishing buddies John and Max. Meanwhile, a sultry Italian divorcée opens a restaurant at the local bait shop, alarming the locals who worry she'll scare the fish away. But she's less interested in seafood than she is in cooking up a hot time with Max.\", 'popularity': 7.75, 'poster_path': '/1FSXpj5e8l4KH6nVFO5SPUeraOt.jpg', 'production_companies': [{'id': 19464, 'logo_path': None, 'name': 'Lancaster Gate', 'origin_country': ''}, {'id': 174, 'logo_path': '/IuAlhI9eVC9Z8UQWOIDdWRKSEJ.png', 'name': 'Warner Bros. Pictures', 'origin_country': 'US'}], 'production_countries': [{'iso_3166_1': 'US', 'name': 'United States of America'}], 'release_date': '1995-12-22', 'revenue': 71500000, 'runtime': 101, 'spoken_languages': [{'english_name': 'English', 'iso_639_1': 'en', 'name': 'English'}], 'status': 'Released', 'tagline': 'Still Yelling. Still Fighting. Still Ready for Love.', 'title': 'Grumpier Old Men', 'video': False, 'vote_average': 6.5, 'vote_count': 324}, {'adult': False, 'backdrop_path': '/jZjoEKXMTDoZAGdkjhAdJaKtXSN.jpg', 'belongs_to_collection': None, 'budget': 16000000, 'genres': [{'id': 35, 'name': 'Comedy'}, {'id': 18, 'name': 'Drama'}, {'id': 10749, 'name': 'Romance'}], 'homepage': '', 'id': 31357, 'imdb_id': 'tt0114885', 'original_language': 'en', 'original_title': 'Waiting to Exhale', 'overview': 'Cheated on, mistreated and stepped on, the women are holding their breath, waiting for the elusive \"good man\" to break a string of less-than-stellar lovers. Friends and confidants Vannah, Bernie, Glo and Robin talk it all out, determined to find a better way to breathe.', 'popularity': 10.623, 'poster_path': '/4uw6HKq4vlhrSVp0zkgd4zCy4Pf.jpg', 'production_companies': [{'id': 25, 'logo_path': '/qZCc1lty5FzX30aOCVRBLzaVmcp.png', 'name': '20th Century Fox', 'origin_country': 'US'}], 'production_countries': [{'iso_3166_1': 'US', 'name': 'United States of America'}], 'release_date': '1995-12-22', 'revenue': 81452156, 'runtime': 127, 'spoken_languages': [{'english_name': 'English', 'iso_639_1': 'en', 'name': 'English'}], 'status': 'Released', 'tagline': 'Friends are the people who let you be yourself... and never let you forget it.', 'title': 'Waiting to Exhale', 'video': False, 'vote_average': 6.262, 'vote_count': 130}, {'adult': False, 'backdrop_path': '/lEsjVrGU21BeJjF5AF9EWsihDpw.jpg', 'belongs_to_collection': {'id': 96871, 'name': 'Father of the Bride (Steve Martin) Collection', 'poster_path': '/nts4iOmNnq7GNicycMJ9pSAn204.jpg', 'backdrop_path': '/7qwE57OVZmMJChBpLEbJEmzUydk.jpg'}, 'budget': 0, 'genres': [{'id': 35, 'name': 'Comedy'}, {'id': 10751, 'name': 'Family'}], 'homepage': '', 'id': 11862, 'imdb_id': 'tt0113041', 'original_language': 'en', 'original_title': 'Father of the Bride Part II', 'overview': \"Just when George Banks has recovered from his daughter's wedding, he receives the news that she's pregnant ... and that George's wife is expecting too. He was planning on selling their home, but that's a plan that—like George—will have to change with the arrival of both a grandchild and a kid of his own.\", 'popularity': 12.181, 'poster_path': '/rj4LBtwQ0uGrpBnCELr716Qo3mw.jpg', 'production_companies': [{'id': 9195, 'logo_path': '/ou5BUbtulr6tIt699q6xJiEQTR9.png', 'name': 'Touchstone Pictures', 'origin_country': 'US'}, {'id': 5842, 'logo_path': None, 'name': 'Sandollar Productions', 'origin_country': 'US'}], 'production_countries': [{'iso_3166_1': 'US', 'name': 'United States of America'}], 'release_date': '1995-12-08', 'revenue': 76594107, 'runtime': 106, 'spoken_languages': [{'english_name': 'English', 'iso_639_1': 'en', 'name': 'English'}], 'status': 'Released', 'tagline': \"Just When His World Is Back To Normal... He's In For The Surprise Of His Life!\", 'title': 'Father of the Bride Part II', 'video': False, 'vote_average': 6.2, 'vote_count': 635}]\n"
     ]
    }
   ],
   "source": [
    "API_key = \"9448a161e82438f4d8eb6872c5bc9223\"\n",
    "\n",
    "list_in = []\n",
    "\n",
    "for i in range(len(links_df)):\n",
    "    print(links_df.iloc[i, 2])\n",
    "    query = query = 'https://api.themoviedb.org/3/movie/'+ str(links_df.iloc[i, 2]) +'?api_key='+ API_key +'&language=en-US'\n",
    "    response =  requests.get(query)\n",
    "    if response.status_code==200: \n",
    "        #status code ==200 indicates the API query was successful\n",
    "        array = response.json()\n",
    "        text = json.dumps(array)\n",
    "        print (text)\n",
    "        list_in.append(array)\n",
    "        \n",
    "    else:\n",
    "        print (\"error\")\n",
    "        \n",
    "print(list_in)\n",
    "output_df = pd.DataFrame(list_in)"
   ]
  },
  {
   "cell_type": "code",
   "execution_count": null,
   "metadata": {},
   "outputs": [],
   "source": [
    "output_df.to_csv(\"combined_data.csv\")"
   ]
  }
 ],
 "metadata": {
  "kernelspec": {
   "display_name": "Python 3.11.2 64-bit",
   "language": "python",
   "name": "python3"
  },
  "language_info": {
   "codemirror_mode": {
    "name": "ipython",
    "version": 3
   },
   "file_extension": ".py",
   "mimetype": "text/x-python",
   "name": "python",
   "nbconvert_exporter": "python",
   "pygments_lexer": "ipython3",
   "version": "3.11.2"
  },
  "orig_nbformat": 4,
  "vscode": {
   "interpreter": {
    "hash": "aee8b7b246df8f9039afb4144a1f6fd8d2ca17a180786b69acc140d282b71a49"
   }
  }
 },
 "nbformat": 4,
 "nbformat_minor": 2
}
